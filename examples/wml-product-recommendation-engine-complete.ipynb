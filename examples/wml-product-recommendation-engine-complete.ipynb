{
 "cells": [
  {
   "cell_type": "markdown",
   "metadata": {},
   "source": [
    "# Build a product recommendation engine\n",
    "\n",
    "![](https://raw.githubusercontent.com/IBM/product-recommendation-with-watson-ml/master/doc/source/images/shopping.png)\n",
    "\n",
    "This notebook contains steps and code to create a recommendation engine based on shopping history and deploy that model to Watson Machine Learning. This notebook runs on Python 3.x with Apache Spark 2.3.\n",
    "\n",
    "## Learning Goals\n",
    "\n",
    "The learning goals of this notebook are:\n",
    "\n",
    "* Load a CSV file into the Object Storage service linked to your Watson Studio\n",
    "* Use the *k*-means algorithm, which is useful for cluster analysis in data mining, to segment customers into clusters for the purpose of making an in-store purchase recommendation\n",
    "* Deploy the model to the IBM Watson Machine Learning service in IBM Cloud"
   ]
  },
  {
   "cell_type": "markdown",
   "metadata": {},
   "source": [
    "## Table of contents\n",
    "\n",
    "1. [Setup](#setup)<br>\n",
    "2. [Load and explore data](#load)<br>\n",
    "3. [Create a KMeans model](#kmeans)<br>\n",
    "   3.1. [Prepare data](#prepare_data)<br>\n",
    "   3.2. [Create clusters and define the model](#build_model)<br>\n",
    "4. [Persist the model](#persist)<br>\n",
    "5. [Deploy the model to the cloud](#deploy)<br>\n",
    "   5.1. [Create deployment for the model](#create_deploy)<br>\n",
    "   5.2. [Test model deployment](#test_deploy)<br>\n",
    "6. [Create product recommendations](#create_recomm)<br>\n",
    "   6.1. [Test product recommendations model](#test_recomm)<br>\n",
    "7. [Summary and next steps](#summary)<br>"
   ]
  },
  {
   "cell_type": "markdown",
   "metadata": {},
   "source": [
    "## 1. Setup\n",
    "\n",
    "\n",
    "Before you use the sample code in this notebook, you must perform the following setup tasks:\n",
    "\n",
    "* Create a Watson Machine Learning service instance (a free plan is offered) and associate it with your project\n",
    "* Create a Cloud Object Storage service instance (a free plan is offered) and associate it with your project\n"
   ]
  },
  {
   "cell_type": "markdown",
   "metadata": {},
   "source": [
    "We'll be using a couple libraries for this exercise:\n",
    "\n",
    "1. [Watson Machine Learning Client](http://wml-api-pyclient.mybluemix.net/): Client library to work with the Watson Machine Learning service on IBM Cloud. Library available on [pypi](https://pypi.org/project/watson-machine-learning-client/). Service available on [IBM Cloud](https://cloud.ibm.com/catalog/services/machine-learning).\n",
    "1. [ibmos2spark](https://github.com/ibm-watson-data-lab/ibmos2spark): Facilitates Data I/O between Spark and IBM Object Storage services"
   ]
  },
  {
   "cell_type": "code",
   "execution_count": 1,
   "metadata": {},
   "outputs": [
    {
     "name": "stdout",
     "output_type": "stream",
     "text": [
      "Waiting for a Spark session to start...\n",
      "Spark Initialization Done! ApplicationId = app-20200218172511-0000\n",
      "KERNEL_ID = 0576217d-9da4-4667-9dad-ad0f1093407c\n",
      "Collecting ibmos2spark\n",
      "  Downloading https://files.pythonhosted.org/packages/c6/81/1edb24382edef1ca636e87972b2da286b8271a586c728a21f916d3cd76cd/ibmos2spark-1.0.1-py2.py3-none-any.whl\n",
      "Installing collected packages: ibmos2spark\n",
      "Successfully installed ibmos2spark-1.0.1\n",
      "Collecting watson-machine-learning-client\n",
      "\u001b[?25l  Downloading https://files.pythonhosted.org/packages/12/67/66db412f00d19bfdc5725078bff373787513bfb14320f2804b9db3abb53a/watson_machine_learning_client-1.0.378-py3-none-any.whl (536kB)\n",
      "\u001b[K    100% |################################| 542kB 3.4MB/s eta 0:00:01\n",
      "\u001b[?25hCollecting pandas (from watson-machine-learning-client)\n",
      "\u001b[?25l  Downloading https://files.pythonhosted.org/packages/08/ec/b5dd8cfb078380fb5ae9325771146bccd4e8cad2d3e4c72c7433010684eb/pandas-1.0.1-cp36-cp36m-manylinux1_x86_64.whl (10.1MB)\n",
      "\u001b[K    100% |################################| 10.1MB 1.2MB/s eta 0:00:01   48% |###############                 | 4.9MB 67.4MB/s eta 0:00:01\n",
      "\u001b[?25hCollecting requests (from watson-machine-learning-client)\n",
      "\u001b[?25l  Downloading https://files.pythonhosted.org/packages/51/bd/23c926cd341ea6b7dd0b2a00aba99ae0f828be89d72b2190f27c11d4b7fb/requests-2.22.0-py2.py3-none-any.whl (57kB)\n",
      "\u001b[K    100% |################################| 61kB 2.6MB/s eta 0:00:01\n",
      "\u001b[?25hCollecting tabulate (from watson-machine-learning-client)\n",
      "\u001b[?25l  Downloading https://files.pythonhosted.org/packages/c4/41/523f6a05e6dc3329a5660f6a81254c6cd87e5cfb5b7482bae3391d86ec3a/tabulate-0.8.6.tar.gz (45kB)\n",
      "\u001b[K    100% |################################| 51kB 2.2MB/s eta 0:00:01\n",
      "\u001b[?25hCollecting lomond (from watson-machine-learning-client)\n",
      "  Downloading https://files.pythonhosted.org/packages/0f/b1/02eebed49c754b01b17de7705caa8c4ceecfb4f926cdafc220c863584360/lomond-0.3.3-py2.py3-none-any.whl\n",
      "Collecting certifi (from watson-machine-learning-client)\n",
      "\u001b[?25l  Downloading https://files.pythonhosted.org/packages/b9/63/df50cac98ea0d5b006c55a399c3bf1db9da7b5a24de7890bc9cfd5dd9e99/certifi-2019.11.28-py2.py3-none-any.whl (156kB)\n",
      "\u001b[K    100% |################################| 163kB 4.6MB/s eta 0:00:01\n",
      "\u001b[?25hCollecting ibm-cos-sdk (from watson-machine-learning-client)\n",
      "\u001b[?25l  Downloading https://files.pythonhosted.org/packages/6f/91/86b2816c7b77d816b03a1ad6cf7db4b1f67556af395d5b93fdae6086c933/ibm-cos-sdk-2.6.0.tar.gz (53kB)\n",
      "\u001b[K    100% |################################| 61kB 3.1MB/s eta 0:00:01\n",
      "\u001b[?25hCollecting tqdm (from watson-machine-learning-client)\n",
      "\u001b[?25l  Downloading https://files.pythonhosted.org/packages/cd/80/5bb262050dd2f30f8819626b7c92339708fe2ed7bd5554c8193b4487b367/tqdm-4.42.1-py2.py3-none-any.whl (59kB)\n",
      "\u001b[K    100% |################################| 61kB 2.6MB/s eta 0:00:01\n",
      "\u001b[?25hCollecting urllib3 (from watson-machine-learning-client)\n",
      "\u001b[?25l  Downloading https://files.pythonhosted.org/packages/e8/74/6e4f91745020f967d09332bb2b8b9b10090957334692eb88ea4afe91b77f/urllib3-1.25.8-py2.py3-none-any.whl (125kB)\n",
      "\u001b[K    100% |################################| 133kB 4.9MB/s eta 0:00:01\n",
      "\u001b[?25hCollecting pytz>=2017.2 (from pandas->watson-machine-learning-client)\n",
      "\u001b[?25l  Downloading https://files.pythonhosted.org/packages/e7/f9/f0b53f88060247251bf481fa6ea62cd0d25bf1b11a87888e53ce5b7c8ad2/pytz-2019.3-py2.py3-none-any.whl (509kB)\n",
      "\u001b[K    100% |################################| 512kB 3.6MB/s eta 0:00:01\n",
      "\u001b[?25hCollecting python-dateutil>=2.6.1 (from pandas->watson-machine-learning-client)\n",
      "\u001b[?25l  Downloading https://files.pythonhosted.org/packages/d4/70/d60450c3dd48ef87586924207ae8907090de0b306af2bce5d134d78615cb/python_dateutil-2.8.1-py2.py3-none-any.whl (227kB)\n",
      "\u001b[K    100% |################################| 235kB 4.0MB/s eta 0:00:01\n",
      "\u001b[?25hCollecting numpy>=1.13.3 (from pandas->watson-machine-learning-client)\n",
      "\u001b[?25l  Downloading https://files.pythonhosted.org/packages/62/20/4d43e141b5bc426ba38274933ef8e76e85c7adea2c321ecf9ebf7421cedf/numpy-1.18.1-cp36-cp36m-manylinux1_x86_64.whl (20.1MB)\n",
      "\u001b[K    100% |################################| 20.2MB 851kB/s eta 0:00:01\n",
      "\u001b[?25hCollecting idna<2.9,>=2.5 (from requests->watson-machine-learning-client)\n",
      "\u001b[?25l  Downloading https://files.pythonhosted.org/packages/14/2c/cd551d81dbe15200be1cf41cd03869a46fe7226e7450af7a6545bfc474c9/idna-2.8-py2.py3-none-any.whl (58kB)\n",
      "\u001b[K    100% |################################| 61kB 2.8MB/s eta 0:00:01\n",
      "\u001b[?25hCollecting chardet<3.1.0,>=3.0.2 (from requests->watson-machine-learning-client)\n",
      "\u001b[?25l  Downloading https://files.pythonhosted.org/packages/bc/a9/01ffebfb562e4274b6487b4bb1ddec7ca55ec7510b22e4c51f14098443b8/chardet-3.0.4-py2.py3-none-any.whl (133kB)\n",
      "\u001b[K    100% |################################| 143kB 4.5MB/s eta 0:00:01\n",
      "\u001b[?25hCollecting six>=1.10.0 (from lomond->watson-machine-learning-client)\n",
      "  Downloading https://files.pythonhosted.org/packages/65/eb/1f97cb97bfc2390a276969c6fae16075da282f5058082d4cb10c6c5c1dba/six-1.14.0-py2.py3-none-any.whl\n",
      "Collecting ibm-cos-sdk-core==2.6.0 (from ibm-cos-sdk->watson-machine-learning-client)\n",
      "\u001b[?25l  Downloading https://files.pythonhosted.org/packages/ea/c1/c823507c472bf88dbd045445df6850744111d34fd218c6ea3b9c9bde2cfe/ibm-cos-sdk-core-2.6.0.tar.gz (763kB)\n",
      "\u001b[K    100% |################################| 768kB 4.0MB/s eta 0:00:01\n",
      "\u001b[?25hCollecting ibm-cos-sdk-s3transfer==2.6.0 (from ibm-cos-sdk->watson-machine-learning-client)\n",
      "\u001b[?25l  Downloading https://files.pythonhosted.org/packages/6f/92/682a28b99777a3fdc65e6d5641ed7e1ca470d0eab3bb2826cc30c6b60e21/ibm-cos-sdk-s3transfer-2.6.0.tar.gz (221kB)\n",
      "\u001b[K    100% |################################| 225kB 4.5MB/s eta 0:00:01\n",
      "\u001b[?25hCollecting jmespath<1.0.0,>=0.7.1 (from ibm-cos-sdk->watson-machine-learning-client)\n",
      "  Downloading https://files.pythonhosted.org/packages/83/94/7179c3832a6d45b266ddb2aac329e101367fbdb11f425f13771d27f225bb/jmespath-0.9.4-py2.py3-none-any.whl\n",
      "Collecting docutils<0.16,>=0.10 (from ibm-cos-sdk-core==2.6.0->ibm-cos-sdk->watson-machine-learning-client)\n",
      "\u001b[?25l  Downloading https://files.pythonhosted.org/packages/22/cd/a6aa959dca619918ccb55023b4cb151949c64d4d5d55b3f4ffd7eee0c6e8/docutils-0.15.2-py3-none-any.whl (547kB)\n",
      "\u001b[K    100% |################################| 552kB 4.1MB/s eta 0:00:01\n",
      "\u001b[?25hBuilding wheels for collected packages: tabulate, ibm-cos-sdk, ibm-cos-sdk-core, ibm-cos-sdk-s3transfer\n",
      "  Building wheel for tabulate (setup.py) ... \u001b[?25ldone\n",
      "\u001b[?25h  Stored in directory: /home/spark/shared/.cache/pip/wheels/9c/9b/f4/eb243fdb89676ec00588e8c54bb54360724c06e7fafe95278e\n",
      "  Building wheel for ibm-cos-sdk (setup.py) ... \u001b[?25ldone\n",
      "\u001b[?25h  Stored in directory: /home/spark/shared/.cache/pip/wheels/37/9c/c4/a2c610ccb877d37c2cb87a5bfe55845fecffd6bb01bcd5e9d5\n",
      "  Building wheel for ibm-cos-sdk-core (setup.py) ... \u001b[?25ldone\n",
      "\u001b[?25h  Stored in directory: /home/spark/shared/.cache/pip/wheels/75/93/e6/23071b2c037147a0993d34b64a03e51abca84435fc9cd6a278\n",
      "  Building wheel for ibm-cos-sdk-s3transfer (setup.py) ... \u001b[?25ldone\n",
      "\u001b[?25h  Stored in directory: /home/spark/shared/.cache/pip/wheels/23/d9/d7/43fd95b014eed89466154d8373bf4cffbb3d972de7841e213c\n",
      "Successfully built tabulate ibm-cos-sdk ibm-cos-sdk-core ibm-cos-sdk-s3transfer\n",
      "\u001b[31mtensorflow 1.13.1 requires tensorboard<1.14.0,>=1.13.0, which is not installed.\u001b[0m\n",
      "\u001b[31mbotocore 1.12.82 has requirement urllib3<1.25,>=1.20, but you'll have urllib3 1.25.8 which is incompatible.\u001b[0m\n",
      "Installing collected packages: pytz, six, python-dateutil, numpy, pandas, urllib3, idna, certifi, chardet, requests, tabulate, lomond, jmespath, docutils, ibm-cos-sdk-core, ibm-cos-sdk-s3transfer, ibm-cos-sdk, tqdm, watson-machine-learning-client\n",
      "Successfully installed certifi-2019.11.28 chardet-3.0.4 docutils-0.15.2 ibm-cos-sdk-2.6.0 ibm-cos-sdk-core-2.6.0 ibm-cos-sdk-s3transfer-2.6.0 idna-2.8 jmespath-0.9.4 lomond-0.3.3 numpy-1.18.1 pandas-1.0.1 python-dateutil-2.8.1 pytz-2019.3 requests-2.22.0 six-1.14.0 tabulate-0.8.6 tqdm-4.42.1 urllib3-1.25.8 watson-machine-learning-client-1.0.378\n"
     ]
    }
   ],
   "source": [
    "!pip install --upgrade ibmos2spark\n",
    "!pip install --upgrade watson-machine-learning-client"
   ]
  },
  {
   "cell_type": "markdown",
   "metadata": {},
   "source": [
    "<a id=\"load\"></a>\n",
    "## 2. Load and explore data\n",
    "\n",
    "In this section you will load and access the data file that contains the customer shopping data using [Cloud Object Storage in the notebook](https://dataplatform.cloud.ibm.com/docs/content/wsj/analyze-data/load-and-access-data.html):\n",
    "\n",
    "1. Place cursor into the next cell (`# Generated Code Here`)\n",
    "1. Click the **Find and Add Data** icon to open the Files and Connections side bar\n",
    "1. Click **browse** and navigate to and select the `customers_orders1_opt.csv`\n",
    "1. Click **Insert to code**\n",
    "1. Select **SparkSession DataFrame**\n",
    "\n",
    "Code to download and import the CSV data into a Spark DataFrame is generated and added into the notebook cell.\n",
    "\n",
    "```\n",
    "import ibmos2spark\n",
    "# @hidden_cell\n",
    "credentials = {\n",
    "    'endpoint': 'https://s3-api.us-geo.objectstorage.service.networklayer.com',\n",
    "    'service_id': '***',\n",
    "    'iam_service_endpoint': 'https://iam.ng.bluemix.net/oidc/token',\n",
    "    'api_key': '***'\n",
    "}\n",
    "\n",
    "configuration_name = 'os_7135ade4b1d24e67b69b610d4a20966c_configs'\n",
    "cos = ibmos2spark.CloudObjectStorage(sc, credentials, configuration_name, 'bluemix_cos')\n",
    "\n",
    "from pyspark.sql import SparkSession\n",
    "spark = SparkSession.builder.getOrCreate()\n",
    "df_data_1 = spark.read\\\n",
    "  .format('org.apache.spark.sql.execution.datasources.csv.CSVFileFormat')\\\n",
    "  .option('header', 'true')\\\n",
    "  .load(cos.url('customers_orders1_opt.csv', '***'))\n",
    "df_data_1.take(5)\n",
    "```\n",
    "\n",
    "Run the generated code.\n"
   ]
  },
  {
   "cell_type": "code",
   "execution_count": 2,
   "metadata": {},
   "outputs": [
    {
     "data": {
      "text/plain": [
       "[Row(CUSTNAME='Allen Perl          ', GenderCode='Mr.', ADDRESS1='4707    Hillcrest Lane', CITY='Abeto', STATE='PG', COUNTRY_CODE='IT', POSTAL_CODE='6040', POSTAL_CODE_PLUS4='0', ADDRESS2=None, EMAIL_ADDRESS='Allen.M.Perl@spambob.com', PHONE_NUMBER='0370 4762239', CREDITCARD_TYPE='Master Card', LOCALITY=None, SALESMAN_ID='RP385 ', NATIONALITY='U.S.', NATIONAL_ID='22867928', CREDITCARD_NUMBER='5179762243750832', DRIVER_LICENSE=None, CUST_ID='10003', ORDER_ID='1106', ORDER_DATE='2016-06-23 00:00:00.000', ORDER_TIME='2016-06-23 15:29:06.250', FREIGHT_CHARGES='29.790000', ORDER_SALESMAN='NC298 ', ORDER_POSTED_DATE='2016-07-15 00:00:00.000', ORDER_SHIP_DATE='27/07/2016', AGE='27', ORDER_VALUE='134.24', T_TYPE='Complete', PURCHASE_TOUCHPOINT='Phone', PURCHASE_STATUS='Frequent', ORDER_TYPE='MediumValue', GENERATION='Gen_Y', Baby Food='0', Diapers='0', Formula='1', Lotion='1', Baby wash='0', Wipes='0', Fresh Fruits='0', Fresh Vegetables='0', Beer='0', Wine='0', Club Soda='0', Sports Drink='0', Chips='0', Popcorn='0', Oatmeal='1', Medicines='0', Canned Foods='0', Cigarettes='0', Cheese='0', Cleaning Products='0', Condiments='1', Frozen Foods='0', Kitchen Items='0', Meat='0', Office Supplies='0', Personal Care='0', Pet Supplies='0', Sea Food='0', Spices='0'),\n",
       " Row(CUSTNAME='Allen Perl          ', GenderCode='Mr.', ADDRESS1='4707    Hillcrest Lane', CITY='Abeto', STATE='PG', COUNTRY_CODE='IT', POSTAL_CODE='6040', POSTAL_CODE_PLUS4='0', ADDRESS2=None, EMAIL_ADDRESS='Allen.M.Perl@spambob.com', PHONE_NUMBER='0370 4762239', CREDITCARD_TYPE='Master Card', LOCALITY=None, SALESMAN_ID='RP385 ', NATIONALITY='U.S.', NATIONAL_ID='22867928', CREDITCARD_NUMBER='5151795581583086', DRIVER_LICENSE=None, CUST_ID='10003', ORDER_ID='2948', ORDER_DATE='2016-01-08 00:00:00.000', ORDER_TIME='2016-01-08 03:13:54.564', FREIGHT_CHARGES='17.870000', ORDER_SALESMAN='SW277 ', ORDER_POSTED_DATE='2016-02-20 00:00:00.000', ORDER_SHIP_DATE='27/03/2016', AGE='27', ORDER_VALUE='53.4', T_TYPE='Abandoned', PURCHASE_TOUCHPOINT='Phone', PURCHASE_STATUS='Frequent', ORDER_TYPE='MediumValue', GENERATION='Gen_Y', Baby Food='0', Diapers='0', Formula='1', Lotion='0', Baby wash='1', Wipes='0', Fresh Fruits='0', Fresh Vegetables='1', Beer='0', Wine='0', Club Soda='0', Sports Drink='0', Chips='0', Popcorn='0', Oatmeal='0', Medicines='0', Canned Foods='0', Cigarettes='0', Cheese='0', Cleaning Products='1', Condiments='0', Frozen Foods='0', Kitchen Items='0', Meat='0', Office Supplies='0', Personal Care='0', Pet Supplies='0', Sea Food='0', Spices='0'),\n",
       " Row(CUSTNAME='Allen Perl          ', GenderCode='Mr.', ADDRESS1='4707    Hillcrest Lane', CITY='Abeto', STATE='PG', COUNTRY_CODE='IT', POSTAL_CODE='6040', POSTAL_CODE_PLUS4='0', ADDRESS2=None, EMAIL_ADDRESS='Allen.M.Perl@spambob.com', PHONE_NUMBER='0370 4762239', CREDITCARD_TYPE='Master Card', LOCALITY=None, SALESMAN_ID='RP385 ', NATIONALITY='U.S.', NATIONAL_ID='22867928', CREDITCARD_NUMBER='5172170955593514', DRIVER_LICENSE=None, CUST_ID='10003', ORDER_ID='3323', ORDER_DATE='2016-08-25 00:00:00.000', ORDER_TIME='2016-08-25 16:39:06.250', FREIGHT_CHARGES='31.880000', ORDER_SALESMAN='NC160 ', ORDER_POSTED_DATE='2016-09-19 00:00:00.000', ORDER_SHIP_DATE='27/09/2016', AGE='27', ORDER_VALUE='26.25', T_TYPE='Complete', PURCHASE_TOUCHPOINT='Desktop', PURCHASE_STATUS='Frequent', ORDER_TYPE='LowValue', GENERATION='Gen_Y', Baby Food='0', Diapers='1', Formula='0', Lotion='0', Baby wash='0', Wipes='0', Fresh Fruits='0', Fresh Vegetables='0', Beer='1', Wine='0', Club Soda='0', Sports Drink='0', Chips='0', Popcorn='1', Oatmeal='0', Medicines='0', Canned Foods='0', Cigarettes='0', Cheese='0', Cleaning Products='0', Condiments='0', Frozen Foods='0', Kitchen Items='0', Meat='0', Office Supplies='0', Personal Care='0', Pet Supplies='0', Sea Food='0', Spices='0'),\n",
       " Row(CUSTNAME='Allen Perl          ', GenderCode='Mr.', ADDRESS1='4707    Hillcrest Lane', CITY='Abeto', STATE='PG', COUNTRY_CODE='IT', POSTAL_CODE='6040', POSTAL_CODE_PLUS4='0', ADDRESS2=None, EMAIL_ADDRESS='Allen.M.Perl@spambob.com', PHONE_NUMBER='0370 4762239', CREDITCARD_TYPE='Master Card', LOCALITY=None, SALESMAN_ID='RP385 ', NATIONALITY='U.S.', NATIONAL_ID='22867928', CREDITCARD_NUMBER='5159253292458638', DRIVER_LICENSE=None, CUST_ID='10003', ORDER_ID='7498', ORDER_DATE='2016-10-22 00:00:00.000', ORDER_TIME='2016-10-22 08:19:56.145', FREIGHT_CHARGES='18.450000', ORDER_SALESMAN='SW409 ', ORDER_POSTED_DATE='2016-12-23 00:00:00.000', ORDER_SHIP_DATE='03/01/2016', AGE='27', ORDER_VALUE='5.65', T_TYPE='Complete', PURCHASE_TOUCHPOINT='Phone', PURCHASE_STATUS='Frequent', ORDER_TYPE='LowValue', GENERATION='Gen_Y', Baby Food='0', Diapers='0', Formula='0', Lotion='1', Baby wash='0', Wipes='0', Fresh Fruits='0', Fresh Vegetables='0', Beer='0', Wine='0', Club Soda='0', Sports Drink='0', Chips='0', Popcorn='1', Oatmeal='0', Medicines='0', Canned Foods='0', Cigarettes='0', Cheese='0', Cleaning Products='0', Condiments='0', Frozen Foods='0', Kitchen Items='0', Meat='0', Office Supplies='0', Personal Care='0', Pet Supplies='0', Sea Food='0', Spices='0'),\n",
       " Row(CUSTNAME='Allen Perl          ', GenderCode='Mr.', ADDRESS1='4707    Hillcrest Lane', CITY='Abeto', STATE='PG', COUNTRY_CODE='IT', POSTAL_CODE='6040', POSTAL_CODE_PLUS4='0', ADDRESS2=None, EMAIL_ADDRESS='Allen.M.Perl@spambob.com', PHONE_NUMBER='0370 4762239', CREDITCARD_TYPE='Master Card', LOCALITY=None, SALESMAN_ID='RP385 ', NATIONALITY='U.S.', NATIONAL_ID='22867928', CREDITCARD_NUMBER='5139426156817496', DRIVER_LICENSE=None, CUST_ID='10003', ORDER_ID='7973', ORDER_DATE='2016-04-06 00:00:00.000', ORDER_TIME='2016-04-06 13:07:36.370', FREIGHT_CHARGES='23.120000', ORDER_SALESMAN='WE352 ', ORDER_POSTED_DATE='2016-04-20 00:00:00.000', ORDER_SHIP_DATE='01/04/2016', AGE='27', ORDER_VALUE='44.43', T_TYPE='Complete', PURCHASE_TOUCHPOINT='Phone', PURCHASE_STATUS='Frequent', ORDER_TYPE='LowValue', GENERATION='Gen_Y', Baby Food='0', Diapers='0', Formula='0', Lotion='0', Baby wash='0', Wipes='0', Fresh Fruits='0', Fresh Vegetables='0', Beer='0', Wine='0', Club Soda='1', Sports Drink='0', Chips='0', Popcorn='0', Oatmeal='0', Medicines='0', Canned Foods='0', Cigarettes='0', Cheese='0', Cleaning Products='0', Condiments='0', Frozen Foods='0', Kitchen Items='0', Meat='0', Office Supplies='0', Personal Care='0', Pet Supplies='0', Sea Food='0', Spices='0')]"
      ]
     },
     "execution_count": 2,
     "metadata": {},
     "output_type": "execute_result"
    }
   ],
   "source": [
    "# Generated Code Here\n",
    "import ibmos2spark\n",
    "# @hidden_cell\n",
    "credentials = {\n",
    "    'endpoint': 'https://s3-api.us-geo.objectstorage.service.networklayer.com',\n",
    "    'service_id': '***',\n",
    "    'iam_service_endpoint': 'https://iam.ng.bluemix.net/oidc/token',\n",
    "    'api_key': '***'\n",
    "}\n",
    "\n",
    "configuration_name = 'os_7135ade4b1d24e67b69b610d4a20966c_configs'\n",
    "cos = ibmos2spark.CloudObjectStorage(sc, credentials, configuration_name, 'bluemix_cos')\n",
    "\n",
    "from pyspark.sql import SparkSession\n",
    "spark = SparkSession.builder.getOrCreate()\n",
    "df_data_2 = spark.read\\\n",
    "  .format('org.apache.spark.sql.execution.datasources.csv.CSVFileFormat')\\\n",
    "  .option('header', 'true')\\\n",
    "  .load(cos.url('customers_orders1_opt.csv', '***'))\n",
    "df_data_2.take(5)\n"
   ]
  },
  {
   "cell_type": "markdown",
   "metadata": {},
   "source": [
    "<br>\n",
    "\n",
    "Update and set the `df` variable to the dataframe variable (e.g., `df_data_1`) created by the generated code\n"
   ]
  },
  {
   "cell_type": "code",
   "execution_count": 4,
   "metadata": {},
   "outputs": [],
   "source": [
    "df = df_data_2"
   ]
  },
  {
   "cell_type": "markdown",
   "metadata": {},
   "source": [
    "<a id=\"kmeans\"></a>\n",
    "## 3. Create a *k*-means model with Spark\n",
    "\n",
    "In this section of the notebook you use the *k*-means implementation to associate every customer to a cluster based on their shopping history.\n",
    "\n",
    "First, import the Apache Spark Machine Learning packages ([MLlib](http://spark.apache.org/docs/2.2.0/api/python/pyspark.ml.html)) that you need in the subsequent steps:\n"
   ]
  },
  {
   "cell_type": "code",
   "execution_count": 5,
   "metadata": {},
   "outputs": [],
   "source": [
    "from pyspark.ml import Pipeline\n",
    "from pyspark.ml.clustering import KMeans\n",
    "from pyspark.ml.clustering import KMeansModel\n",
    "from pyspark.ml.feature import VectorAssembler\n",
    "from pyspark.ml.linalg import Vectors"
   ]
  },
  {
   "cell_type": "markdown",
   "metadata": {},
   "source": [
    "<a id=\"prepare_data\"></a>\n",
    "### 3.1 Prepare data\n",
    "\n",
    "Create a new data set with just the data that you need. Filter the columns that you want, in this case the customer ID column and the product-related columns. Remove the columns that you don't need for aggregating the data and training the model. Convert the column types from `StringType` to `IntegerType`:"
   ]
  },
  {
   "cell_type": "code",
   "execution_count": 6,
   "metadata": {},
   "outputs": [],
   "source": [
    "from pyspark.sql.types import IntegerType\n",
    "\n",
    "# Here are the product cols. In a real world scenario we would query a product table, or similar.\n",
    "product_cols = ['Baby Food', 'Diapers', 'Formula', 'Lotion', 'Baby wash', 'Wipes', 'Fresh Fruits', 'Fresh Vegetables', 'Beer', 'Wine', 'Club Soda', 'Sports Drink', 'Chips', 'Popcorn', 'Oatmeal', 'Medicines', 'Canned Foods', 'Cigarettes', 'Cheese', 'Cleaning Products', 'Condiments', 'Frozen Foods', 'Kitchen Items', 'Meat', 'Office Supplies', 'Personal Care', 'Pet Supplies', 'Sea Food', 'Spices']\n",
    "# Here we get the customer ID and the products they purchased\n",
    "df_filtered = df.select(['CUST_ID'] + product_cols)\n",
    "\n",
    "for c in product_cols:\n",
    "    df_filtered = df_filtered.withColumn(c, df[c].cast(IntegerType()))"
   ]
  },
  {
   "cell_type": "markdown",
   "metadata": {},
   "source": [
    "<br>\n",
    "\n",
    "View the filtered information:"
   ]
  },
  {
   "cell_type": "code",
   "execution_count": 7,
   "metadata": {},
   "outputs": [
    {
     "name": "stdout",
     "output_type": "stream",
     "text": [
      "+-------+---------+-------+-------+------+---------+-----+------------+----------------+----+----+---------+------------+-----+-------+-------+---------+------------+----------+------+-----------------+----------+------------+-------------+----+---------------+-------------+------------+--------+------+\n",
      "|CUST_ID|Baby Food|Diapers|Formula|Lotion|Baby wash|Wipes|Fresh Fruits|Fresh Vegetables|Beer|Wine|Club Soda|Sports Drink|Chips|Popcorn|Oatmeal|Medicines|Canned Foods|Cigarettes|Cheese|Cleaning Products|Condiments|Frozen Foods|Kitchen Items|Meat|Office Supplies|Personal Care|Pet Supplies|Sea Food|Spices|\n",
      "+-------+---------+-------+-------+------+---------+-----+------------+----------------+----+----+---------+------------+-----+-------+-------+---------+------------+----------+------+-----------------+----------+------------+-------------+----+---------------+-------------+------------+--------+------+\n",
      "|  10003|        0|      0|      1|     1|        0|    0|           0|               0|   0|   0|        0|           0|    0|      0|      1|        0|           0|         0|     0|                0|         1|           0|            0|   0|              0|            0|           0|       0|     0|\n",
      "|  10003|        0|      0|      1|     0|        1|    0|           0|               1|   0|   0|        0|           0|    0|      0|      0|        0|           0|         0|     0|                1|         0|           0|            0|   0|              0|            0|           0|       0|     0|\n",
      "|  10003|        0|      1|      0|     0|        0|    0|           0|               0|   1|   0|        0|           0|    0|      1|      0|        0|           0|         0|     0|                0|         0|           0|            0|   0|              0|            0|           0|       0|     0|\n",
      "|  10003|        0|      0|      0|     1|        0|    0|           0|               0|   0|   0|        0|           0|    0|      1|      0|        0|           0|         0|     0|                0|         0|           0|            0|   0|              0|            0|           0|       0|     0|\n",
      "|  10003|        0|      0|      0|     0|        0|    0|           0|               0|   0|   0|        1|           0|    0|      0|      0|        0|           0|         0|     0|                0|         0|           0|            0|   0|              0|            0|           0|       0|     0|\n",
      "|  10003|        0|      0|      0|     0|        0|    0|           0|               0|   0|   0|        0|           0|    0|      0|      0|        0|           0|         0|     0|                1|         0|           0|            0|   0|              0|            0|           0|       0|     0|\n",
      "|  10007|        0|      0|      0|     0|        0|    0|           0|               0|   0|   1|        0|           0|    0|      0|      0|        1|           0|         1|     0|                0|         0|           1|            0|   0|              0|            0|           0|       1|     0|\n",
      "|  10015|        0|      0|      0|     0|        0|    0|           0|               0|   0|   0|        1|           0|    1|      1|      0|        0|           1|         0|     0|                0|         0|           0|            0|   0|              0|            0|           0|       0|     0|\n",
      "|  10015|        0|      0|      0|     0|        0|    0|           1|               0|   0|   0|        0|           0|    0|      0|      0|        0|           0|         0|     0|                0|         0|           0|            0|   0|              0|            0|           0|       0|     0|\n",
      "|  10015|        0|      0|      0|     0|        0|    0|           0|               0|   0|   0|        0|           0|    0|      0|      0|        0|           0|         0|     0|                0|         0|           0|            0|   0|              1|            0|           0|       0|     0|\n",
      "|  10015|        0|      0|      0|     0|        0|    0|           0|               0|   0|   0|        1|           0|    1|      1|      0|        0|           1|         0|     0|                0|         1|           0|            0|   0|              0|            0|           0|       0|     0|\n",
      "|  10019|        0|      0|      0|     0|        0|    0|           0|               0|   0|   0|        0|           0|    0|      1|      0|        0|           0|         0|     0|                0|         0|           0|            0|   0|              0|            0|           0|       0|     0|\n",
      "|  10019|        0|      0|      0|     0|        0|    0|           0|               0|   0|   0|        0|           0|    0|      1|      0|        0|           0|         0|     0|                0|         0|           0|            0|   0|              1|            0|           0|       0|     0|\n",
      "|  10019|        0|      0|      0|     0|        0|    0|           0|               0|   0|   0|        1|           0|    1|      1|      0|        0|           1|         0|     0|                0|         1|           0|            0|   0|              0|            0|           0|       0|     0|\n",
      "|  10019|        0|      0|      0|     0|        0|    0|           0|               0|   0|   0|        1|           0|    1|      1|      0|        0|           1|         0|     0|                0|         1|           0|            0|   0|              0|            0|           0|       0|     0|\n",
      "|  10019|        0|      0|      0|     0|        0|    0|           0|               0|   0|   0|        0|           0|    0|      1|      0|        0|           0|         0|     0|                0|         0|           0|            0|   0|              0|            0|           0|       0|     0|\n",
      "|  10027|        0|      0|      0|     0|        0|    0|           0|               0|   0|   0|        1|           0|    1|      1|      0|        0|           1|         0|     0|                0|         1|           0|            0|   0|              0|            0|           0|       0|     0|\n",
      "|  10027|        0|      0|      0|     0|        0|    1|           0|               0|   0|   0|        0|           0|    0|      0|      0|        0|           0|         0|     0|                0|         0|           0|            0|   0|              0|            0|           0|       0|     0|\n",
      "|  10027|        0|      0|      0|     0|        0|    0|           0|               0|   0|   0|        1|           0|    1|      0|      0|        0|           1|         0|     0|                0|         0|           0|            0|   0|              0|            0|           0|       0|     0|\n",
      "|  10027|        0|      0|      0|     0|        0|    0|           0|               0|   0|   0|        1|           0|    1|      0|      0|        0|           1|         0|     0|                0|         0|           0|            0|   0|              0|            0|           0|       0|     0|\n",
      "+-------+---------+-------+-------+------+---------+-----+------------+----------------+----+----+---------+------------+-----+-------+-------+---------+------------+----------+------+-----------------+----------+------------+-------------+----+---------------+-------------+------------+--------+------+\n",
      "only showing top 20 rows\n",
      "\n"
     ]
    }
   ],
   "source": [
    "df_filtered.show()"
   ]
  },
  {
   "cell_type": "markdown",
   "metadata": {},
   "source": [
    "Now, aggregate the individual transactions for each customer to get a single score per product, per customer."
   ]
  },
  {
   "cell_type": "code",
   "execution_count": 8,
   "metadata": {},
   "outputs": [
    {
     "name": "stdout",
     "output_type": "stream",
     "text": [
      "+-------+--------------+------------+------------+-----------+--------------+----------+-----------------+---------------------+---------+---------+--------------+-----------------+----------+------------+------------+--------------+-----------------+---------------+-----------+----------------------+---------------+-----------------+------------------+---------+--------------------+------------------+-----------------+-------------+-----------+\n",
      "|CUST_ID|sum(Baby Food)|sum(Diapers)|sum(Formula)|sum(Lotion)|sum(Baby wash)|sum(Wipes)|sum(Fresh Fruits)|sum(Fresh Vegetables)|sum(Beer)|sum(Wine)|sum(Club Soda)|sum(Sports Drink)|sum(Chips)|sum(Popcorn)|sum(Oatmeal)|sum(Medicines)|sum(Canned Foods)|sum(Cigarettes)|sum(Cheese)|sum(Cleaning Products)|sum(Condiments)|sum(Frozen Foods)|sum(Kitchen Items)|sum(Meat)|sum(Office Supplies)|sum(Personal Care)|sum(Pet Supplies)|sum(Sea Food)|sum(Spices)|\n",
      "+-------+--------------+------------+------------+-----------+--------------+----------+-----------------+---------------------+---------+---------+--------------+-----------------+----------+------------+------------+--------------+-----------------+---------------+-----------+----------------------+---------------+-----------------+------------------+---------+--------------------+------------------+-----------------+-------------+-----------+\n",
      "|  15269|             1|           0|           0|          0|             0|         0|                0|                    0|        0|        0|             3|                0|         2|           2|           0|             0|                2|              0|          0|                     0|              1|                0|                 0|        0|                   0|                 0|                0|            0|          0|\n",
      "|  15271|             0|           0|           0|          0|             0|         0|                0|                    0|        0|        0|             1|                0|         1|           2|           0|             0|                1|              0|          0|                     0|              1|                0|                 0|        0|                   0|                 0|                0|            0|          0|\n",
      "|  15555|             1|           1|           0|          0|             0|         0|                0|                    0|        1|        4|             0|                0|         0|           0|           0|             1|                1|              2|          3|                     0|              1|                2|                 0|        1|                   1|                 1|                0|            3|          4|\n",
      "|  15574|             1|           1|           0|          0|             0|         0|                0|                    0|        1|        3|             0|                0|         0|           0|           0|             2|                0|              1|          3|                     0|              0|                1|                 0|        0|                   0|                 1|                0|            1|          1|\n",
      "|  10351|             1|           1|           0|          0|             0|         0|                0|                    0|        0|        2|             3|                0|         2|           2|           1|             1|                2|              1|          1|                     1|              1|                0|                 1|        0|                   0|                 1|                0|            2|          1|\n",
      "|  11563|             0|           0|           0|          0|             0|         0|                0|                    0|        0|        0|             3|                0|         2|           3|           0|             0|                2|              0|          0|                     0|              2|                0|                 0|        0|                   0|                 0|                0|            0|          0|\n",
      "|  12847|             0|           0|           0|          0|             0|         0|                0|                    0|        0|        0|             3|                0|         3|           2|           0|             0|                3|              0|          0|                     0|              2|                0|                 0|        0|                   0|                 0|                0|            0|          0|\n",
      "|  10096|             0|           0|           0|          0|             0|         0|                0|                    0|        0|        0|             0|                0|         0|           1|           0|             0|                0|              0|          0|                     0|              0|                0|                 1|        0|                   0|                 0|                0|            0|          0|\n",
      "|  11888|             0|           0|           0|          0|             0|         0|                0|                    0|        0|        1|             0|                0|         0|           0|           0|             0|                0|              0|          0|                     0|              0|                1|                 0|        0|                   0|                 1|                0|            1|          1|\n",
      "|  13192|             0|           0|           0|          0|             0|         0|                0|                    0|        0|        0|             3|                0|         3|           1|           1|             0|                3|              0|          0|                     0|              2|                0|                 0|        0|                   0|                 0|                0|            0|          0|\n",
      "|  11078|             1|           0|           1|          0|             0|         2|                0|                    0|        0|        5|             0|                0|         0|           0|           1|             3|                1|              2|          7|                     2|              1|                4|                 0|        1|                   0|                 2|                1|            3|          6|\n",
      "|  11722|             0|           0|           0|          0|             0|         0|                0|                    1|        0|        0|             0|                0|         0|           1|           0|             0|                0|              3|          0|                     1|              0|                0|                 0|        3|                   1|                 0|                1|            0|          3|\n",
      "|  12394|             0|           0|           0|          1|             0|         0|                0|                    0|        0|        2|             0|                0|         0|           0|           2|             0|                0|              1|          1|                     0|              0|                1|                 1|        0|                   2|                 1|                0|            1|          2|\n",
      "|  13610|             0|           0|           0|          1|             0|         1|                0|                    0|        0|        0|             4|                0|         1|           1|           0|             0|                2|              0|          0|                     0|              1|                0|                 0|        0|                   0|                 0|                0|            0|          0|\n",
      "|  13772|             0|           0|           0|          0|             0|         0|                0|                    0|        0|        0|             3|                0|         2|           2|           0|             0|                2|              0|          0|                     0|              0|                0|                 0|        0|                   0|                 0|                0|            0|          0|\n",
      "|  13865|             0|           0|           1|          0|             0|         0|                0|                    1|        0|        2|             0|                0|         0|           0|           1|             0|                1|              2|          1|                     0|              1|                2|                 0|        0|                   1|                 3|                0|            1|          1|\n",
      "|  14157|             0|           1|           2|          0|             0|         0|                1|                    0|        1|        1|             0|                0|         0|           0|           0|             0|                1|              1|          0|                     1|              2|                1|                 1|        1|                   0|                 1|                1|            1|          2|\n",
      "|  14204|             0|           0|           0|          0|             0|         0|                1|                    0|        0|        0|             1|                0|         0|           1|           0|             1|                1|              0|          1|                     0|              1|                1|                 0|        0|                   0|                 1|                0|            0|          0|\n",
      "|  14369|             0|           1|           0|          0|             0|         1|                0|                    0|        1|        1|             0|                0|         0|           0|           0|             1|                0|              0|          0|                     0|              0|                0|                 0|        0|                   0|                 1|                0|            1|          0|\n",
      "|  14838|             0|           0|           0|          0|             0|         0|                0|                    1|        0|        0|             1|                1|         0|           1|           0|             0|                0|              0|          0|                     0|              1|                0|                 0|        0|                   1|                 0|                0|            0|          0|\n",
      "+-------+--------------+------------+------------+-----------+--------------+----------+-----------------+---------------------+---------+---------+--------------+-----------------+----------+------------+------------+--------------+-----------------+---------------+-----------+----------------------+---------------+-----------------+------------------+---------+--------------------+------------------+-----------------+-------------+-----------+\n",
      "only showing top 20 rows\n",
      "\n"
     ]
    }
   ],
   "source": [
    "df_customer_products = df_filtered.groupby('CUST_ID').sum()  # Use customer IDs to group transactions by customer and sum them up\n",
    "df_customer_products = df_customer_products.drop('sum(CUST_ID)')\n",
    "\n",
    "df_customer_products.show()"
   ]
  },
  {
   "cell_type": "markdown",
   "metadata": {},
   "source": [
    "<a id=\"build_model\"></a>\n",
    "### 3.2 Create clusters and define the model \n",
    "\n",
    "Create 100 clusters with a *k*-means model based on the number of times a specific customer purchased a product.\n",
    "\n",
    "| No Clustering | Clustering |\n",
    "|------|------|\n",
    "|  ![](https://raw.githubusercontent.com/IBM/product-recommendation-with-watson-ml/master/doc/source/images/kmeans-1.jpg)  | ![](https://raw.githubusercontent.com/IBM/product-recommendation-with-watson-ml/master/doc/source/images/kmeans-2.jpg) |\n",
    "\n",
    "First, create a feature vector by combining the product and quantity columns:"
   ]
  },
  {
   "cell_type": "code",
   "execution_count": 9,
   "metadata": {},
   "outputs": [],
   "source": [
    "assembler = VectorAssembler(inputCols=[\"sum({})\".format(x) for x in product_cols],outputCol=\"features\") # Assemble vectors using product fields"
   ]
  },
  {
   "cell_type": "markdown",
   "metadata": {},
   "source": [
    "Next, create the *k*-means clusters and the pipeline to define the model:"
   ]
  },
  {
   "cell_type": "code",
   "execution_count": 10,
   "metadata": {},
   "outputs": [],
   "source": [
    "kmeans = KMeans(maxIter=50, predictionCol=\"cluster\").setK(100).setSeed(1)  # Initialize model\n",
    "pipeline = Pipeline(stages=[assembler, kmeans])\n",
    "model = pipeline.fit(df_customer_products)"
   ]
  },
  {
   "cell_type": "markdown",
   "metadata": {},
   "source": [
    "Finally, calculate the cluster for each customer by running the original dataset against the *k*-means model: "
   ]
  },
  {
   "cell_type": "code",
   "execution_count": 11,
   "metadata": {
    "scrolled": false
   },
   "outputs": [
    {
     "name": "stdout",
     "output_type": "stream",
     "text": [
      "+-------+--------------+------------+------------+-----------+--------------+----------+-----------------+---------------------+---------+---------+--------------+-----------------+----------+------------+------------+--------------+-----------------+---------------+-----------+----------------------+---------------+-----------------+------------------+---------+--------------------+------------------+-----------------+-------------+-----------+--------------------+-------+\n",
      "|CUST_ID|sum(Baby Food)|sum(Diapers)|sum(Formula)|sum(Lotion)|sum(Baby wash)|sum(Wipes)|sum(Fresh Fruits)|sum(Fresh Vegetables)|sum(Beer)|sum(Wine)|sum(Club Soda)|sum(Sports Drink)|sum(Chips)|sum(Popcorn)|sum(Oatmeal)|sum(Medicines)|sum(Canned Foods)|sum(Cigarettes)|sum(Cheese)|sum(Cleaning Products)|sum(Condiments)|sum(Frozen Foods)|sum(Kitchen Items)|sum(Meat)|sum(Office Supplies)|sum(Personal Care)|sum(Pet Supplies)|sum(Sea Food)|sum(Spices)|            features|cluster|\n",
      "+-------+--------------+------------+------------+-----------+--------------+----------+-----------------+---------------------+---------+---------+--------------+-----------------+----------+------------+------------+--------------+-----------------+---------------+-----------+----------------------+---------------+-----------------+------------------+---------+--------------------+------------------+-----------------+-------------+-----------+--------------------+-------+\n",
      "|  15269|             1|           0|           0|          0|             0|         0|                0|                    0|        0|        0|             3|                0|         2|           2|           0|             0|                2|              0|          0|                     0|              1|                0|                 0|        0|                   0|                 0|                0|            0|          0|(29,[0,10,12,13,1...|     93|\n",
      "|  15271|             0|           0|           0|          0|             0|         0|                0|                    0|        0|        0|             1|                0|         1|           2|           0|             0|                1|              0|          0|                     0|              1|                0|                 0|        0|                   0|                 0|                0|            0|          0|(29,[10,12,13,16,...|     99|\n",
      "|  15555|             1|           1|           0|          0|             0|         0|                0|                    0|        1|        4|             0|                0|         0|           0|           0|             1|                1|              2|          3|                     0|              1|                2|                 0|        1|                   1|                 1|                0|            3|          4|(29,[0,1,8,9,15,1...|      7|\n",
      "|  15574|             1|           1|           0|          0|             0|         0|                0|                    0|        1|        3|             0|                0|         0|           0|           0|             2|                0|              1|          3|                     0|              0|                1|                 0|        0|                   0|                 1|                0|            1|          1|(29,[0,1,8,9,15,1...|     85|\n",
      "|  10351|             1|           1|           0|          0|             0|         0|                0|                    0|        0|        2|             3|                0|         2|           2|           1|             1|                2|              1|          1|                     1|              1|                0|                 1|        0|                   0|                 1|                0|            2|          1|(29,[0,1,9,10,12,...|     41|\n",
      "|  11563|             0|           0|           0|          0|             0|         0|                0|                    0|        0|        0|             3|                0|         2|           3|           0|             0|                2|              0|          0|                     0|              2|                0|                 0|        0|                   0|                 0|                0|            0|          0|(29,[10,12,13,16,...|      5|\n",
      "|  12847|             0|           0|           0|          0|             0|         0|                0|                    0|        0|        0|             3|                0|         3|           2|           0|             0|                3|              0|          0|                     0|              2|                0|                 0|        0|                   0|                 0|                0|            0|          0|(29,[10,12,13,16,...|     87|\n",
      "|  10096|             0|           0|           0|          0|             0|         0|                0|                    0|        0|        0|             0|                0|         0|           1|           0|             0|                0|              0|          0|                     0|              0|                0|                 1|        0|                   0|                 0|                0|            0|          0|(29,[13,22],[1.0,...|     39|\n",
      "|  11888|             0|           0|           0|          0|             0|         0|                0|                    0|        0|        1|             0|                0|         0|           0|           0|             0|                0|              0|          0|                     0|              0|                1|                 0|        0|                   0|                 1|                0|            1|          1|(29,[9,21,25,27,2...|     43|\n",
      "|  13192|             0|           0|           0|          0|             0|         0|                0|                    0|        0|        0|             3|                0|         3|           1|           1|             0|                3|              0|          0|                     0|              2|                0|                 0|        0|                   0|                 0|                0|            0|          0|(29,[10,12,13,14,...|     87|\n",
      "|  11078|             1|           0|           1|          0|             0|         2|                0|                    0|        0|        5|             0|                0|         0|           0|           1|             3|                1|              2|          7|                     2|              1|                4|                 0|        1|                   0|                 2|                1|            3|          6|(29,[0,2,5,9,14,1...|     46|\n",
      "|  11722|             0|           0|           0|          0|             0|         0|                0|                    1|        0|        0|             0|                0|         0|           1|           0|             0|                0|              3|          0|                     1|              0|                0|                 0|        3|                   1|                 0|                1|            0|          3|(29,[7,13,17,19,2...|     55|\n",
      "|  12394|             0|           0|           0|          1|             0|         0|                0|                    0|        0|        2|             0|                0|         0|           0|           2|             0|                0|              1|          1|                     0|              0|                1|                 1|        0|                   2|                 1|                0|            1|          2|(29,[3,9,14,17,18...|     30|\n",
      "|  13610|             0|           0|           0|          1|             0|         1|                0|                    0|        0|        0|             4|                0|         1|           1|           0|             0|                2|              0|          0|                     0|              1|                0|                 0|        0|                   0|                 0|                0|            0|          0|(29,[3,5,10,12,13...|     21|\n",
      "|  13772|             0|           0|           0|          0|             0|         0|                0|                    0|        0|        0|             3|                0|         2|           2|           0|             0|                2|              0|          0|                     0|              0|                0|                 0|        0|                   0|                 0|                0|            0|          0|(29,[10,12,13,16]...|     93|\n",
      "|  13865|             0|           0|           1|          0|             0|         0|                0|                    1|        0|        2|             0|                0|         0|           0|           1|             0|                1|              2|          1|                     0|              1|                2|                 0|        0|                   1|                 3|                0|            1|          1|(29,[2,7,9,14,16,...|     12|\n",
      "|  14157|             0|           1|           2|          0|             0|         0|                1|                    0|        1|        1|             0|                0|         0|           0|           0|             0|                1|              1|          0|                     1|              2|                1|                 1|        1|                   0|                 1|                1|            1|          2|(29,[1,2,6,8,9,16...|     49|\n",
      "|  14204|             0|           0|           0|          0|             0|         0|                1|                    0|        0|        0|             1|                0|         0|           1|           0|             1|                1|              0|          1|                     0|              1|                1|                 0|        0|                   0|                 1|                0|            0|          0|(29,[6,10,13,15,1...|     70|\n",
      "|  14369|             0|           1|           0|          0|             0|         1|                0|                    0|        1|        1|             0|                0|         0|           0|           0|             1|                0|              0|          0|                     0|              0|                0|                 0|        0|                   0|                 1|                0|            1|          0|(29,[1,5,8,9,15,2...|     43|\n",
      "|  14838|             0|           0|           0|          0|             0|         0|                0|                    1|        0|        0|             1|                1|         0|           1|           0|             0|                0|              0|          0|                     0|              1|                0|                 0|        0|                   1|                 0|                0|            0|          0|(29,[7,10,11,13,2...|     39|\n",
      "+-------+--------------+------------+------------+-----------+--------------+----------+-----------------+---------------------+---------+---------+--------------+-----------------+----------+------------+------------+--------------+-----------------+---------------+-----------+----------------------+---------------+-----------------+------------------+---------+--------------------+------------------+-----------------+-------------+-----------+--------------------+-------+\n",
      "only showing top 20 rows\n",
      "\n"
     ]
    }
   ],
   "source": [
    "df_customer_products_cluster = model.transform(df_customer_products)\n",
    "df_customer_products_cluster.show()"
   ]
  },
  {
   "cell_type": "markdown",
   "metadata": {},
   "source": [
    "<a id=\"persist\"></a>\n",
    "## 4. Persist the model \n",
    "\n",
    "In this section you will learn how to store your pipeline and model in Watson Machine Learning repository by using Python client libraries."
   ]
  },
  {
   "cell_type": "markdown",
   "metadata": {},
   "source": [
    "### 4.1 Configure IBM Watson Machine Learning credentials\n",
    "\n",
    "To access your machine learning repository programmatically, you need to copy in your credentials, which you can see in your **IBM Watson Machine Learning** service details in IBM Cloud.\n",
    "\n",
    "> **IMPORTANT**: Update `apikey` and `instance_id` below. Credentials can be found on _Service Credentials_ tab of the Watson Machine Learning service instance created on the IBM Cloud."
   ]
  },
  {
   "cell_type": "code",
   "execution_count": 14,
   "metadata": {},
   "outputs": [
    {
     "name": "stdout",
     "output_type": "stream",
     "text": [
      "{'apikey': '***', 'iam_apikey_description': 'Auto-generated for key ***', 'iam_apikey_name': 'Service credentials-1', 'iam_role_crn': 'crn:v1:bluemix:public:iam::::serviceRole:Writer', 'iam_serviceid_crn': 'crn:v1:bluemix:public:iam-identity::a/***', 'instance_id': '***', 'url': 'https://us-south.ml.cloud.ibm.com'}\n"
     ]
    }
   ],
   "source": [
    "# @hidden_cell\n",
    "wml_credentials = {\n",
    "  \"apikey\": \"***\",\n",
    "  \"iam_apikey_description\": \"Auto-generated for key ***\",\n",
    "  \"iam_apikey_name\": \"Service credentials-1\",\n",
    "  \"iam_role_crn\": \"crn:v1:bluemix:public:iam::::serviceRole:Writer\",\n",
    "  \"iam_serviceid_crn\": \"crn:v1:bluemix:public:iam-identity::a/***\",\n",
    "  \"instance_id\": \"***\",\n",
    "  \"url\": \"https://us-south.ml.cloud.ibm.com\"\n",
    "}\n",
    "\n",
    "print(wml_credentials)"
   ]
  },
  {
   "cell_type": "markdown",
   "metadata": {},
   "source": [
    "Connect to the Watson Machine Learning service using the provided credentials."
   ]
  },
  {
   "cell_type": "code",
   "execution_count": 13,
   "metadata": {},
   "outputs": [
    {
     "name": "stdout",
     "output_type": "stream",
     "text": [
      "1.0.378\n"
     ]
    }
   ],
   "source": [
    "from watson_machine_learning_client import WatsonMachineLearningAPIClient\n",
    "client = WatsonMachineLearningAPIClient(wml_credentials)\n",
    "print(client.version)"
   ]
  },
  {
   "cell_type": "markdown",
   "metadata": {},
   "source": [
    "### 4.2 Save the model \n",
    "\n",
    "#### Save the model to the Watson Machine Learning repository\n",
    "\n",
    "You use the Watson Machine Learning client's [Repository class](http://wml-api-pyclient.mybluemix.net/#repository) to store and manage models in the Watson Machine Learning service. \n",
    "\n",
    "> **NOTE**: You can also use Watson Studio to manage models. In this notebook we are using the client library instead."
   ]
  },
  {
   "cell_type": "code",
   "execution_count": 15,
   "metadata": {},
   "outputs": [],
   "source": [
    "train_data = df_customer_products.withColumnRenamed('CUST_ID', 'label')"
   ]
  },
  {
   "cell_type": "markdown",
   "metadata": {},
   "source": [
    "> **TIP**: Update the cell below with your name, email, and name you wish to give to your model."
   ]
  },
  {
   "cell_type": "code",
   "execution_count": 16,
   "metadata": {},
   "outputs": [],
   "source": [
    "model_props = {client.repository.ModelMetaNames.AUTHOR_NAME: \"IBM\", \n",
    "               client.repository.ModelMetaNames.NAME: \"Shopping Recommendation Engine\"}\n",
    "published_model = client.repository.store_model(model=model, pipeline=pipeline, meta_props=model_props, training_data=train_data)"
   ]
  },
  {
   "cell_type": "markdown",
   "metadata": {},
   "source": [
    "> **NOTE**: You can delete a model from the repository by calling `client.repository.delete`."
   ]
  },
  {
   "cell_type": "markdown",
   "metadata": {},
   "source": [
    "#### Display list of existing models in the Watson Machine Learning repository "
   ]
  },
  {
   "cell_type": "code",
   "execution_count": 17,
   "metadata": {},
   "outputs": [
    {
     "name": "stdout",
     "output_type": "stream",
     "text": [
      "------------------------------------  ------------------------------  ------------------------  -----------------\n",
      "GUID                                  NAME                            CREATED                   FRAMEWORK\n",
      "585f73ac-7263-45bb-a59e-35c6f9e38bf4  Shopping Recommendation Engine  2020-02-18T17:33:27.009Z  mllib-2.3\n",
      "a3345023-4887-4e07-b1bf-0dc1e31e6343  Handwritten Digits Recognition  2017-09-15T17:53:15.409Z  scikit-learn-0.17\n",
      "b2006e75-2ff2-494a-b915-a56bc63b1db8  Sentiment Prediction            2017-09-15T17:53:09.561Z  mllib-2.0\n",
      "------------------------------------  ------------------------------  ------------------------  -----------------\n"
     ]
    }
   ],
   "source": [
    "client.repository.list_models()"
   ]
  },
  {
   "cell_type": "markdown",
   "metadata": {},
   "source": [
    "#### Display information about the saved model"
   ]
  },
  {
   "cell_type": "code",
   "execution_count": 18,
   "metadata": {},
   "outputs": [
    {
     "name": "stdout",
     "output_type": "stream",
     "text": [
      "{\n",
      "  \"metadata\": {\n",
      "    \"guid\": \"585f73ac-7263-45bb-a59e-35c6f9e38bf4\",\n",
      "    \"url\": \"https://us-south.ml.cloud.ibm.com/v3/wml_instances/745bd577-af9e-4896-a105-0aa49d0befe8/published_models/585f73ac-7263-45bb-a59e-35c6f9e38bf4\",\n",
      "    \"created_at\": \"2020-02-18T17:33:27.009Z\",\n",
      "    \"modified_at\": \"2020-02-18T17:33:27.075Z\"\n",
      "  },\n",
      "  \"entity\": {\n",
      "    \"runtime_environment\": \"spark-2.3\",\n",
      "    \"learning_configuration_url\": \"https://us-south.ml.cloud.ibm.com/v3/wml_instances/745bd577-af9e-4896-a105-0aa49d0befe8/published_models/585f73ac-7263-45bb-a59e-35c6f9e38bf4/learning_configuration\",\n",
      "    \"author\": {\n",
      "      \"name\": \"IBM\"\n",
      "    },\n",
      "    \"name\": \"Shopping Recommendation Engine\",\n",
      "    \"label_col\": \"label\",\n",
      "    \"learning_iterations_url\": \"https://us-south.ml.cloud.ibm.com/v3/wml_instances/745bd577-af9e-4896-a105-0aa49d0befe8/published_models/585f73ac-7263-45bb-a59e-35c6f9e38bf4/learning_iterations\",\n",
      "    \"training_data_schema\": {\n",
      "      \"fields\": [\n",
      "        {\n",
      "          \"metadata\": {\n",
      "            \"modeling_role\": \"target\"\n",
      "          },\n",
      "          \"name\": \"label\",\n",
      "          \"nullable\": true,\n",
      "          \"type\": \"string\"\n",
      "        },\n",
      "        {\n",
      "          \"metadata\": {},\n",
      "          \"name\": \"sum(Baby Food)\",\n",
      "          \"nullable\": true,\n",
      "          \"type\": \"long\"\n",
      "        },\n",
      "        {\n",
      "          \"metadata\": {},\n",
      "          \"name\": \"sum(Diapers)\",\n",
      "          \"nullable\": true,\n",
      "          \"type\": \"long\"\n",
      "        },\n",
      "        {\n",
      "          \"metadata\": {},\n",
      "          \"name\": \"sum(Formula)\",\n",
      "          \"nullable\": true,\n",
      "          \"type\": \"long\"\n",
      "        },\n",
      "        {\n",
      "          \"metadata\": {},\n",
      "          \"name\": \"sum(Lotion)\",\n",
      "          \"nullable\": true,\n",
      "          \"type\": \"long\"\n",
      "        },\n",
      "        {\n",
      "          \"metadata\": {},\n",
      "          \"name\": \"sum(Baby wash)\",\n",
      "          \"nullable\": true,\n",
      "          \"type\": \"long\"\n",
      "        },\n",
      "        {\n",
      "          \"metadata\": {},\n",
      "          \"name\": \"sum(Wipes)\",\n",
      "          \"nullable\": true,\n",
      "          \"type\": \"long\"\n",
      "        },\n",
      "        {\n",
      "          \"metadata\": {},\n",
      "          \"name\": \"sum(Fresh Fruits)\",\n",
      "          \"nullable\": true,\n",
      "          \"type\": \"long\"\n",
      "        },\n",
      "        {\n",
      "          \"metadata\": {},\n",
      "          \"name\": \"sum(Fresh Vegetables)\",\n",
      "          \"nullable\": true,\n",
      "          \"type\": \"long\"\n",
      "        },\n",
      "        {\n",
      "          \"metadata\": {},\n",
      "          \"name\": \"sum(Beer)\",\n",
      "          \"nullable\": true,\n",
      "          \"type\": \"long\"\n",
      "        },\n",
      "        {\n",
      "          \"metadata\": {},\n",
      "          \"name\": \"sum(Wine)\",\n",
      "          \"nullable\": true,\n",
      "          \"type\": \"long\"\n",
      "        },\n",
      "        {\n",
      "          \"metadata\": {},\n",
      "          \"name\": \"sum(Club Soda)\",\n",
      "          \"nullable\": true,\n",
      "          \"type\": \"long\"\n",
      "        },\n",
      "        {\n",
      "          \"metadata\": {},\n",
      "          \"name\": \"sum(Sports Drink)\",\n",
      "          \"nullable\": true,\n",
      "          \"type\": \"long\"\n",
      "        },\n",
      "        {\n",
      "          \"metadata\": {},\n",
      "          \"name\": \"sum(Chips)\",\n",
      "          \"nullable\": true,\n",
      "          \"type\": \"long\"\n",
      "        },\n",
      "        {\n",
      "          \"metadata\": {},\n",
      "          \"name\": \"sum(Popcorn)\",\n",
      "          \"nullable\": true,\n",
      "          \"type\": \"long\"\n",
      "        },\n",
      "        {\n",
      "          \"metadata\": {},\n",
      "          \"name\": \"sum(Oatmeal)\",\n",
      "          \"nullable\": true,\n",
      "          \"type\": \"long\"\n",
      "        },\n",
      "        {\n",
      "          \"metadata\": {},\n",
      "          \"name\": \"sum(Medicines)\",\n",
      "          \"nullable\": true,\n",
      "          \"type\": \"long\"\n",
      "        },\n",
      "        {\n",
      "          \"metadata\": {},\n",
      "          \"name\": \"sum(Canned Foods)\",\n",
      "          \"nullable\": true,\n",
      "          \"type\": \"long\"\n",
      "        },\n",
      "        {\n",
      "          \"metadata\": {},\n",
      "          \"name\": \"sum(Cigarettes)\",\n",
      "          \"nullable\": true,\n",
      "          \"type\": \"long\"\n",
      "        },\n",
      "        {\n",
      "          \"metadata\": {},\n",
      "          \"name\": \"sum(Cheese)\",\n",
      "          \"nullable\": true,\n",
      "          \"type\": \"long\"\n",
      "        },\n",
      "        {\n",
      "          \"metadata\": {},\n",
      "          \"name\": \"sum(Cleaning Products)\",\n",
      "          \"nullable\": true,\n",
      "          \"type\": \"long\"\n",
      "        },\n",
      "        {\n",
      "          \"metadata\": {},\n",
      "          \"name\": \"sum(Condiments)\",\n",
      "          \"nullable\": true,\n",
      "          \"type\": \"long\"\n",
      "        },\n",
      "        {\n",
      "          \"metadata\": {},\n",
      "          \"name\": \"sum(Frozen Foods)\",\n",
      "          \"nullable\": true,\n",
      "          \"type\": \"long\"\n",
      "        },\n",
      "        {\n",
      "          \"metadata\": {},\n",
      "          \"name\": \"sum(Kitchen Items)\",\n",
      "          \"nullable\": true,\n",
      "          \"type\": \"long\"\n",
      "        },\n",
      "        {\n",
      "          \"metadata\": {},\n",
      "          \"name\": \"sum(Meat)\",\n",
      "          \"nullable\": true,\n",
      "          \"type\": \"long\"\n",
      "        },\n",
      "        {\n",
      "          \"metadata\": {},\n",
      "          \"name\": \"sum(Office Supplies)\",\n",
      "          \"nullable\": true,\n",
      "          \"type\": \"long\"\n",
      "        },\n",
      "        {\n",
      "          \"metadata\": {},\n",
      "          \"name\": \"sum(Personal Care)\",\n",
      "          \"nullable\": true,\n",
      "          \"type\": \"long\"\n",
      "        },\n",
      "        {\n",
      "          \"metadata\": {},\n",
      "          \"name\": \"sum(Pet Supplies)\",\n",
      "          \"nullable\": true,\n",
      "          \"type\": \"long\"\n",
      "        },\n",
      "        {\n",
      "          \"metadata\": {},\n",
      "          \"name\": \"sum(Sea Food)\",\n",
      "          \"nullable\": true,\n",
      "          \"type\": \"long\"\n",
      "        },\n",
      "        {\n",
      "          \"metadata\": {},\n",
      "          \"name\": \"sum(Spices)\",\n",
      "          \"nullable\": true,\n",
      "          \"type\": \"long\"\n",
      "        }\n",
      "      ],\n",
      "      \"type\": \"struct\"\n",
      "    },\n",
      "    \"feedback_url\": \"https://us-south.ml.cloud.ibm.com/v3/wml_instances/745bd577-af9e-4896-a105-0aa49d0befe8/published_models/585f73ac-7263-45bb-a59e-35c6f9e38bf4/feedback\",\n",
      "    \"latest_version\": {\n",
      "      \"url\": \"https://us-south.ml.cloud.ibm.com/v3/ml_assets/models/585f73ac-7263-45bb-a59e-35c6f9e38bf4/versions/bd6490a2-6371-4fd3-9adf-30ccefb76c33\",\n",
      "      \"guid\": \"bd6490a2-6371-4fd3-9adf-30ccefb76c33\",\n",
      "      \"created_at\": \"2020-02-18T17:33:27.075Z\"\n",
      "    },\n",
      "    \"model_type\": \"mllib-2.3\",\n",
      "    \"deployments\": {\n",
      "      \"count\": 0,\n",
      "      \"url\": \"https://us-south.ml.cloud.ibm.com/v3/wml_instances/745bd577-af9e-4896-a105-0aa49d0befe8/published_models/585f73ac-7263-45bb-a59e-35c6f9e38bf4/deployments\"\n",
      "    },\n",
      "    \"evaluation_metrics_url\": \"https://us-south.ml.cloud.ibm.com/v3/wml_instances/745bd577-af9e-4896-a105-0aa49d0befe8/published_models/585f73ac-7263-45bb-a59e-35c6f9e38bf4/evaluation_metrics\",\n",
      "    \"input_data_schema\": {\n",
      "      \"fields\": [\n",
      "        {\n",
      "          \"metadata\": {},\n",
      "          \"name\": \"sum(Baby Food)\",\n",
      "          \"nullable\": true,\n",
      "          \"type\": \"long\"\n",
      "        },\n",
      "        {\n",
      "          \"metadata\": {},\n",
      "          \"name\": \"sum(Diapers)\",\n",
      "          \"nullable\": true,\n",
      "          \"type\": \"long\"\n",
      "        },\n",
      "        {\n",
      "          \"metadata\": {},\n",
      "          \"name\": \"sum(Formula)\",\n",
      "          \"nullable\": true,\n",
      "          \"type\": \"long\"\n",
      "        },\n",
      "        {\n",
      "          \"metadata\": {},\n",
      "          \"name\": \"sum(Lotion)\",\n",
      "          \"nullable\": true,\n",
      "          \"type\": \"long\"\n",
      "        },\n",
      "        {\n",
      "          \"metadata\": {},\n",
      "          \"name\": \"sum(Baby wash)\",\n",
      "          \"nullable\": true,\n",
      "          \"type\": \"long\"\n",
      "        },\n",
      "        {\n",
      "          \"metadata\": {},\n",
      "          \"name\": \"sum(Wipes)\",\n",
      "          \"nullable\": true,\n",
      "          \"type\": \"long\"\n",
      "        },\n",
      "        {\n",
      "          \"metadata\": {},\n",
      "          \"name\": \"sum(Fresh Fruits)\",\n",
      "          \"nullable\": true,\n",
      "          \"type\": \"long\"\n",
      "        },\n",
      "        {\n",
      "          \"metadata\": {},\n",
      "          \"name\": \"sum(Fresh Vegetables)\",\n",
      "          \"nullable\": true,\n",
      "          \"type\": \"long\"\n",
      "        },\n",
      "        {\n",
      "          \"metadata\": {},\n",
      "          \"name\": \"sum(Beer)\",\n",
      "          \"nullable\": true,\n",
      "          \"type\": \"long\"\n",
      "        },\n",
      "        {\n",
      "          \"metadata\": {},\n",
      "          \"name\": \"sum(Wine)\",\n",
      "          \"nullable\": true,\n",
      "          \"type\": \"long\"\n",
      "        },\n",
      "        {\n",
      "          \"metadata\": {},\n",
      "          \"name\": \"sum(Club Soda)\",\n",
      "          \"nullable\": true,\n",
      "          \"type\": \"long\"\n",
      "        },\n",
      "        {\n",
      "          \"metadata\": {},\n",
      "          \"name\": \"sum(Sports Drink)\",\n",
      "          \"nullable\": true,\n",
      "          \"type\": \"long\"\n",
      "        },\n",
      "        {\n",
      "          \"metadata\": {},\n",
      "          \"name\": \"sum(Chips)\",\n",
      "          \"nullable\": true,\n",
      "          \"type\": \"long\"\n",
      "        },\n",
      "        {\n",
      "          \"metadata\": {},\n",
      "          \"name\": \"sum(Popcorn)\",\n",
      "          \"nullable\": true,\n",
      "          \"type\": \"long\"\n",
      "        },\n",
      "        {\n",
      "          \"metadata\": {},\n",
      "          \"name\": \"sum(Oatmeal)\",\n",
      "          \"nullable\": true,\n",
      "          \"type\": \"long\"\n",
      "        },\n",
      "        {\n",
      "          \"metadata\": {},\n",
      "          \"name\": \"sum(Medicines)\",\n",
      "          \"nullable\": true,\n",
      "          \"type\": \"long\"\n",
      "        },\n",
      "        {\n",
      "          \"metadata\": {},\n",
      "          \"name\": \"sum(Canned Foods)\",\n",
      "          \"nullable\": true,\n",
      "          \"type\": \"long\"\n",
      "        },\n",
      "        {\n",
      "          \"metadata\": {},\n",
      "          \"name\": \"sum(Cigarettes)\",\n",
      "          \"nullable\": true,\n",
      "          \"type\": \"long\"\n",
      "        },\n",
      "        {\n",
      "          \"metadata\": {},\n",
      "          \"name\": \"sum(Cheese)\",\n",
      "          \"nullable\": true,\n",
      "          \"type\": \"long\"\n",
      "        },\n",
      "        {\n",
      "          \"metadata\": {},\n",
      "          \"name\": \"sum(Cleaning Products)\",\n",
      "          \"nullable\": true,\n",
      "          \"type\": \"long\"\n",
      "        },\n",
      "        {\n",
      "          \"metadata\": {},\n",
      "          \"name\": \"sum(Condiments)\",\n",
      "          \"nullable\": true,\n",
      "          \"type\": \"long\"\n",
      "        },\n",
      "        {\n",
      "          \"metadata\": {},\n",
      "          \"name\": \"sum(Frozen Foods)\",\n",
      "          \"nullable\": true,\n",
      "          \"type\": \"long\"\n",
      "        },\n",
      "        {\n",
      "          \"metadata\": {},\n",
      "          \"name\": \"sum(Kitchen Items)\",\n",
      "          \"nullable\": true,\n",
      "          \"type\": \"long\"\n",
      "        },\n",
      "        {\n",
      "          \"metadata\": {},\n",
      "          \"name\": \"sum(Meat)\",\n",
      "          \"nullable\": true,\n",
      "          \"type\": \"long\"\n",
      "        },\n",
      "        {\n",
      "          \"metadata\": {},\n",
      "          \"name\": \"sum(Office Supplies)\",\n",
      "          \"nullable\": true,\n",
      "          \"type\": \"long\"\n",
      "        },\n",
      "        {\n",
      "          \"metadata\": {},\n",
      "          \"name\": \"sum(Personal Care)\",\n",
      "          \"nullable\": true,\n",
      "          \"type\": \"long\"\n",
      "        },\n",
      "        {\n",
      "          \"metadata\": {},\n",
      "          \"name\": \"sum(Pet Supplies)\",\n",
      "          \"nullable\": true,\n",
      "          \"type\": \"long\"\n",
      "        },\n",
      "        {\n",
      "          \"metadata\": {},\n",
      "          \"name\": \"sum(Sea Food)\",\n",
      "          \"nullable\": true,\n",
      "          \"type\": \"long\"\n",
      "        },\n",
      "        {\n",
      "          \"metadata\": {},\n",
      "          \"name\": \"sum(Spices)\",\n",
      "          \"nullable\": true,\n",
      "          \"type\": \"long\"\n",
      "        }\n",
      "      ],\n",
      "      \"type\": \"struct\"\n",
      "    }\n",
      "  }\n",
      "}\n"
     ]
    }
   ],
   "source": [
    "import json\n",
    "saved_model_uid = client.repository.get_model_uid(published_model)\n",
    "model_details = client.repository.get_details(saved_model_uid)\n",
    "print(json.dumps(model_details, indent=2))"
   ]
  },
  {
   "cell_type": "markdown",
   "metadata": {},
   "source": [
    "<a id=\"deploy\"></a>\n",
    "## 5. Deploy model to the IBM cloud\n",
    "\n",
    "You use the Watson Machine Learning client's [Deployments class](http://wml-api-pyclient.mybluemix.net/#deployments) to deploy and score models.\n",
    "\n",
    "### 5.1 Create an online deployment for the model\n"
   ]
  },
  {
   "cell_type": "code",
   "execution_count": 19,
   "metadata": {},
   "outputs": [
    {
     "name": "stdout",
     "output_type": "stream",
     "text": [
      "\n",
      "\n",
      "#######################################################################################\n",
      "\n",
      "Synchronous deployment creation for uid: '585f73ac-7263-45bb-a59e-35c6f9e38bf4' started\n",
      "\n",
      "#######################################################################################\n",
      "\n",
      "\n",
      "INITIALIZING\n",
      "DEPLOY_SUCCESS\n",
      "\n",
      "\n",
      "------------------------------------------------------------------------------------------------\n",
      "Successfully finished deployment creation, deployment_uid='9c34e64f-a9c7-45b6-b934-3351e6702b90'\n",
      "------------------------------------------------------------------------------------------------\n",
      "\n",
      "\n"
     ]
    }
   ],
   "source": [
    "created_deployment = client.deployments.create(saved_model_uid, 'Shopping Recommendation Engine Deployment')"
   ]
  },
  {
   "cell_type": "markdown",
   "metadata": {},
   "source": [
    "### 5.2 Retrieve the scoring endpoint for this model"
   ]
  },
  {
   "cell_type": "code",
   "execution_count": 20,
   "metadata": {},
   "outputs": [
    {
     "name": "stdout",
     "output_type": "stream",
     "text": [
      "https://us-south.ml.cloud.ibm.com/v3/wml_instances/745bd577-af9e-4896-a105-0aa49d0befe8/deployments/9c34e64f-a9c7-45b6-b934-3351e6702b90/online\n"
     ]
    }
   ],
   "source": [
    "scoring_endpoint = client.deployments.get_scoring_url(created_deployment)\n",
    "print(scoring_endpoint)"
   ]
  },
  {
   "cell_type": "markdown",
   "metadata": {},
   "source": [
    "<a id=\"test_deploy\"></a>\n",
    "### 5.3 Test the deployed model\n",
    "\n",
    "To verify that the model was successfully deployed to the cloud, you'll specify a customer ID, for example customer 12027, to predict this customer's cluster against the Watson Machine Learning deployment, and see if it matches the cluster that was previously associated this customer ID."
   ]
  },
  {
   "cell_type": "code",
   "execution_count": 21,
   "metadata": {},
   "outputs": [
    {
     "name": "stdout",
     "output_type": "stream",
     "text": [
      "Previously calculated cluster = 31\n"
     ]
    }
   ],
   "source": [
    "customer = df_customer_products_cluster.filter('CUST_ID = 12027').collect()\n",
    "print(\"Previously calculated cluster = {}\".format(customer[0].cluster))"
   ]
  },
  {
   "cell_type": "markdown",
   "metadata": {},
   "source": [
    "To determine the customer's cluster using Watson Machine Learning, you need to load the customer's purchase history. This function uses the local data frame to select every product field and the number of times that customer 12027 purchased a product."
   ]
  },
  {
   "cell_type": "code",
   "execution_count": 22,
   "metadata": {},
   "outputs": [],
   "source": [
    "from six import iteritems\n",
    "def get_product_counts_for_customer(cust_id):\n",
    "    cust = df_customer_products.filter('CUST_ID = {}'.format(cust_id)).take(1)\n",
    "    fields = []\n",
    "    values = []\n",
    "    for row in cust:\n",
    "        for product_col in product_cols:\n",
    "            field = 'sum({})'.format(product_col)\n",
    "            value = row[field]\n",
    "            fields.append(field)\n",
    "            values.append(value)\n",
    "    return (fields, values)"
   ]
  },
  {
   "cell_type": "markdown",
   "metadata": {},
   "source": [
    "This function takes the customer's purchase history and calls the scoring endpoint:"
   ]
  },
  {
   "cell_type": "code",
   "execution_count": 23,
   "metadata": {},
   "outputs": [],
   "source": [
    "def get_cluster_from_watson_ml(fields, values):\n",
    "    scoring_payload = {'fields': fields, 'values': [values]}\n",
    "    predictions = client.deployments.score(scoring_endpoint, scoring_payload)   \n",
    "    return predictions['values'][0][len(product_cols)+1]"
   ]
  },
  {
   "cell_type": "markdown",
   "metadata": {},
   "source": [
    "Finally, call the functions defined above to get the product history, call the scoring endpoint, and get the cluster associated to customer 12027:"
   ]
  },
  {
   "cell_type": "code",
   "execution_count": 24,
   "metadata": {},
   "outputs": [
    {
     "name": "stdout",
     "output_type": "stream",
     "text": [
      "Cluster calculated by Watson ML = 31\n"
     ]
    }
   ],
   "source": [
    "product_counts = get_product_counts_for_customer(12027)\n",
    "fields = product_counts[0]\n",
    "values = product_counts[1]\n",
    "print(\"Cluster calculated by Watson ML = {}\".format(get_cluster_from_watson_ml(fields, values)))"
   ]
  },
  {
   "cell_type": "markdown",
   "metadata": {},
   "source": [
    "<a id=\"create_recomm\"></a>\n",
    "## 6. Create product recommendations\n",
    "\n",
    "Now you can create some product recommendations.\n",
    "\n",
    "First, run this cell to create a function that queries the database and finds the most popular items for a cluster. In this case, the **df_customer_products_cluster** dataframe is the database."
   ]
  },
  {
   "cell_type": "code",
   "execution_count": 25,
   "metadata": {},
   "outputs": [],
   "source": [
    "# This function gets the most popular clusters in the cell by grouping by the cluster column\n",
    "def get_popular_products_in_cluster(cluster):\n",
    "    df_cluster_products = df_customer_products_cluster.filter('cluster = {}'.format(cluster))\n",
    "    df_cluster_products_agg = df_cluster_products.groupby('cluster').sum()\n",
    "    row = df_cluster_products_agg.rdd.collect()[0]\n",
    "    items = []\n",
    "    for product_col in product_cols:\n",
    "        field = 'sum(sum({}))'.format(product_col)\n",
    "        items.append((product_col, row[field]))\n",
    "    sortedItems = sorted(items, key=lambda x: x[1], reverse=True) # Sort by score\n",
    "    popular = [x for x in sortedItems if x[1] > 0]\n",
    "    return popular"
   ]
  },
  {
   "cell_type": "markdown",
   "metadata": {},
   "source": [
    "Now, run this cell to create a function that will calculate the recommendations based on a given cluster. This function finds the most popular products in the cluster, filters out products already purchased by the customer or currently in the customer's shopping cart, and finally produces a list of recommended products."
   ]
  },
  {
   "cell_type": "code",
   "execution_count": 26,
   "metadata": {},
   "outputs": [],
   "source": [
    "# This function takes a cluster and the quantity of every product already purchased or in the user's cart\n",
    "from pyspark.sql.functions import desc\n",
    "def get_recommendations_by_cluster(cluster, purchased_quantities):\n",
    "    # Existing customer products\n",
    "    print('PRODUCTS ALREADY PURCHASED/IN CART:')\n",
    "    customer_products = []\n",
    "    for i in range(0, len(product_cols)):\n",
    "        if purchased_quantities[i] > 0:\n",
    "            customer_products.append((product_cols[i], purchased_quantities[i]))\n",
    "    df_customer_products = sc.parallelize(customer_products).toDF([\"PRODUCT\",\"COUNT\"])\n",
    "    df_customer_products.show()\n",
    "    # Get popular products in the cluster\n",
    "    print('POPULAR PRODUCTS IN CLUSTER:')\n",
    "    cluster_products = get_popular_products_in_cluster(cluster)\n",
    "    df_cluster_products = sc.parallelize(cluster_products).toDF([\"PRODUCT\",\"COUNT\"])\n",
    "    df_cluster_products.show()\n",
    "    # Filter out products the user has already purchased\n",
    "    print('RECOMMENDED PRODUCTS:')\n",
    "    df_recommended_products = df_cluster_products.alias('cl').join(df_customer_products.alias('cu'), df_cluster_products['PRODUCT'] == df_customer_products['PRODUCT'], 'leftouter')\n",
    "    df_recommended_products = df_recommended_products.filter('cu.PRODUCT IS NULL').select('cl.PRODUCT','cl.COUNT').sort(desc('cl.COUNT'))\n",
    "    df_recommended_products.show(10)"
   ]
  },
  {
   "cell_type": "markdown",
   "metadata": {},
   "source": [
    "Next, run this cell to create a function that produces a list of recommended items based on the products and quantities in a user's cart. This function uses Watson Machine Learning to calculate the cluster based on the shopping cart contents and then calls the **get_recommendations_by_cluster** function."
   ]
  },
  {
   "cell_type": "code",
   "execution_count": 27,
   "metadata": {},
   "outputs": [],
   "source": [
    "# This function would be used to find recommendations based on the products and quantities in a user's cart\n",
    "def get_recommendations_for_shopping_cart(products, quantities):\n",
    "    fields = []\n",
    "    values = []\n",
    "    for product_col in product_cols:\n",
    "        field = 'sum({})'.format(product_col)\n",
    "        if product_col in products:\n",
    "            value = quantities[products.index(product_col)]\n",
    "        else:\n",
    "            value = 0\n",
    "        fields.append(field)\n",
    "        values.append(value)\n",
    "    return get_recommendations_by_cluster(get_cluster_from_watson_ml(fields, values), values)"
   ]
  },
  {
   "cell_type": "markdown",
   "metadata": {},
   "source": [
    "Run this cell to create a function that produces a list of recommended items based on the purchase history of a customer. This function uses Watson Machine Learning to calculate the cluster based on the customer's purchase history and then calls the **get_recommendations_by_cluster** function."
   ]
  },
  {
   "cell_type": "code",
   "execution_count": 28,
   "metadata": {},
   "outputs": [],
   "source": [
    "# This function is used to find recommendations based on the purchase history of a customer\n",
    "def get_recommendations_for_customer_purchase_history(customer_id):\n",
    "    product_counts = get_product_counts_for_customer(customer_id)\n",
    "    fields = product_counts[0]\n",
    "    values = product_counts[1]\n",
    "    return get_recommendations_by_cluster(get_cluster_from_watson_ml(fields, values), values)"
   ]
  },
  {
   "cell_type": "markdown",
   "metadata": {},
   "source": [
    "Now you can take customer 12027 and produce a recommendation based on that customer's purchase history:"
   ]
  },
  {
   "cell_type": "code",
   "execution_count": 29,
   "metadata": {},
   "outputs": [
    {
     "name": "stdout",
     "output_type": "stream",
     "text": [
      "PRODUCTS ALREADY PURCHASED/IN CART:\n",
      "+-------------+-----+\n",
      "|      PRODUCT|COUNT|\n",
      "+-------------+-----+\n",
      "|      Diapers|    1|\n",
      "|    Baby wash|    1|\n",
      "|         Beer|    1|\n",
      "|         Wine|    3|\n",
      "|    Medicines|    3|\n",
      "|       Cheese|    3|\n",
      "| Frozen Foods|    1|\n",
      "|Kitchen Items|    1|\n",
      "|     Sea Food|    1|\n",
      "|       Spices|    2|\n",
      "+-------------+-----+\n",
      "\n",
      "POPULAR PRODUCTS IN CLUSTER:\n",
      "+-----------------+-----+\n",
      "|          PRODUCT|COUNT|\n",
      "+-----------------+-----+\n",
      "|           Cheese|   72|\n",
      "|        Medicines|   71|\n",
      "|             Wine|   62|\n",
      "|           Spices|   50|\n",
      "|    Personal Care|   39|\n",
      "|         Sea Food|   31|\n",
      "|       Condiments|   27|\n",
      "|     Frozen Foods|   26|\n",
      "|Cleaning Products|   24|\n",
      "|       Cigarettes|   21|\n",
      "|     Canned Foods|   16|\n",
      "|          Diapers|   15|\n",
      "|     Fresh Fruits|   14|\n",
      "|          Formula|   13|\n",
      "|        Baby wash|   11|\n",
      "| Fresh Vegetables|   10|\n",
      "|            Wipes|    9|\n",
      "|             Beer|    9|\n",
      "|     Pet Supplies|    9|\n",
      "|     Sports Drink|    8|\n",
      "+-----------------+-----+\n",
      "only showing top 20 rows\n",
      "\n",
      "RECOMMENDED PRODUCTS:\n",
      "+-----------------+-----+\n",
      "|          PRODUCT|COUNT|\n",
      "+-----------------+-----+\n",
      "|    Personal Care|   39|\n",
      "|       Condiments|   27|\n",
      "|Cleaning Products|   24|\n",
      "|       Cigarettes|   21|\n",
      "|     Canned Foods|   16|\n",
      "|     Fresh Fruits|   14|\n",
      "|          Formula|   13|\n",
      "| Fresh Vegetables|   10|\n",
      "|     Pet Supplies|    9|\n",
      "|            Wipes|    9|\n",
      "+-----------------+-----+\n",
      "only showing top 10 rows\n",
      "\n"
     ]
    }
   ],
   "source": [
    "get_recommendations_for_customer_purchase_history(12027)"
   ]
  },
  {
   "cell_type": "markdown",
   "metadata": {},
   "source": [
    "Now, take a sample shopping cart and produce a recommendation based on the items in the cart:"
   ]
  },
  {
   "cell_type": "code",
   "execution_count": 30,
   "metadata": {},
   "outputs": [
    {
     "name": "stdout",
     "output_type": "stream",
     "text": [
      "PRODUCTS ALREADY PURCHASED/IN CART:\n",
      "+---------+-----+\n",
      "|  PRODUCT|COUNT|\n",
      "+---------+-----+\n",
      "|  Diapers|    1|\n",
      "|Baby wash|    2|\n",
      "|  Oatmeal|    1|\n",
      "+---------+-----+\n",
      "\n",
      "POPULAR PRODUCTS IN CLUSTER:\n",
      "+-----------------+-----+\n",
      "|          PRODUCT|COUNT|\n",
      "+-----------------+-----+\n",
      "|          Diapers|   81|\n",
      "|             Beer|   70|\n",
      "|       Condiments|   22|\n",
      "|        Club Soda|   18|\n",
      "|     Sports Drink|   18|\n",
      "|          Popcorn|   18|\n",
      "|Cleaning Products|   18|\n",
      "|        Baby wash|   16|\n",
      "|  Office Supplies|   14|\n",
      "|           Lotion|   13|\n",
      "|            Wipes|   13|\n",
      "|          Oatmeal|   13|\n",
      "|     Pet Supplies|   12|\n",
      "|    Kitchen Items|   11|\n",
      "|          Formula|   10|\n",
      "|        Baby Food|    8|\n",
      "|     Fresh Fruits|    7|\n",
      "|     Canned Foods|    7|\n",
      "| Fresh Vegetables|    5|\n",
      "+-----------------+-----+\n",
      "\n",
      "RECOMMENDED PRODUCTS:\n",
      "+-----------------+-----+\n",
      "|          PRODUCT|COUNT|\n",
      "+-----------------+-----+\n",
      "|             Beer|   70|\n",
      "|       Condiments|   22|\n",
      "|        Club Soda|   18|\n",
      "|Cleaning Products|   18|\n",
      "|     Sports Drink|   18|\n",
      "|          Popcorn|   18|\n",
      "|  Office Supplies|   14|\n",
      "|            Wipes|   13|\n",
      "|           Lotion|   13|\n",
      "|     Pet Supplies|   12|\n",
      "+-----------------+-----+\n",
      "only showing top 10 rows\n",
      "\n"
     ]
    }
   ],
   "source": [
    "get_recommendations_for_shopping_cart(['Diapers','Baby wash','Oatmeal'],[1,2,1])"
   ]
  },
  {
   "cell_type": "markdown",
   "metadata": {},
   "source": [
    "## <font color=green>Congratulations</font>, you've sucessfully created a recommendation engine and deployed it to the Watson Machine Learning service\n",
    "\n",
    "You can now switch to the Watson Machine Learning console to deploy the model and then test it in application, or continue within the notebook to deploy the model using the APIs."
   ]
  },
  {
   "cell_type": "code",
   "execution_count": null,
   "metadata": {},
   "outputs": [],
   "source": []
  }
 ],
 "metadata": {
  "kernelspec": {
   "display_name": "Python 3.6 with Spark",
   "language": "python3",
   "name": "python36"
  },
  "language_info": {
   "codemirror_mode": {
    "name": "ipython",
    "version": 3
   },
   "file_extension": ".py",
   "mimetype": "text/x-python",
   "name": "python",
   "nbconvert_exporter": "python",
   "pygments_lexer": "ipython3",
   "version": "3.6.8"
  }
 },
 "nbformat": 4,
 "nbformat_minor": 1
}
